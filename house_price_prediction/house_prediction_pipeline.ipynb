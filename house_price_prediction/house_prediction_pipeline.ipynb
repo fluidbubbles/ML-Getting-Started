{
 "cells": [
  {
   "cell_type": "code",
   "execution_count": 30,
   "metadata": {},
   "outputs": [],
   "source": [
    "import os\n",
    "import notebook\n",
    "import pandas as pd\n",
    "import numpy as np\n",
    "import seaborn as sns\n",
    "import matplotlib.pyplot as plt\n",
    "from sklearn.preprocessing import StandardScaler, OneHotEncoder\n",
    "from sklearn.model_selection import train_test_split\n",
    "from sklearn.ensemble import RandomForestClassifier\n",
    "from sklearn.linear_model import LinearRegression, Ridge\n",
    "from sklearn.metrics import accuracy_score\n",
    "from sklearn.metrics import mean_squared_error\n",
    "from sklearn.model_selection import KFold\n",
    "from sklearn.model_selection import cross_val_score\n",
    "from sklearn.compose import ColumnTransformer\n",
    "from sklearn.pipeline import Pipeline\n",
    "from sklearn.impute import SimpleImputer\n",
    "import re\n",
    "\n",
    "directory = 'c:\\\\Users\\\\Callsoom\\\\Documents\\\\ML-Getting-Started\\\\house_price_prediction'\n",
    "train_data_path = os.path.join(directory, 'train.csv')\n",
    "test_data_path = os.path.join(directory, 'test.csv')\n",
    "train_data_raw = pd.read_csv(train_data_path)\n",
    "test_data_raw = pd.read_csv(test_data_path)"
   ]
  },
  {
   "cell_type": "code",
   "execution_count": 31,
   "metadata": {},
   "outputs": [],
   "source": [
    "\n",
    "def pythonize_field_names(field_names):\n",
    "    pythonized_names = []\n",
    "    \n",
    "    for name in field_names:\n",
    "        if name[0].isupper() and name[1:].islower():\n",
    "            # If the field starts with a capital letter and has no other capitals\n",
    "            pythonized_names.append(name.lower())\n",
    "        else:\n",
    "            # Handle fields with more than one capital letter\n",
    "            parts = re.split('([A-Z]+)', name)\n",
    "            new_name = []\n",
    "            for part in parts:\n",
    "                if part.isupper():\n",
    "                    if len(part) > 1:\n",
    "                        # More than one consecutive uppercase, underscore only before the first\n",
    "                        new_name.append('_' + part[0].lower() + part[1:].lower())\n",
    "                    else:\n",
    "                        # Single uppercase letter, prefix with underscore\n",
    "                        new_name.append('_' + part.lower())\n",
    "                else:\n",
    "                    new_name.append(part.lower())\n",
    "            pythonized_names.append(''.join(new_name).lstrip('_'))\n",
    "    \n",
    "    return pythonized_names"
   ]
  },
  {
   "cell_type": "code",
   "execution_count": 32,
   "metadata": {},
   "outputs": [],
   "source": [
    "def fill_missing(df):\n",
    "    df = df.copy()\n",
    "    fillers = {\n",
    "        'bsmt_qual': 'no', 'bsmt_cond': 'no', 'alley': 'no', 'bsmt_fin_type2': 'no', 'garage_type': 'no', 'bsmt_fin_type1': 'no',\n",
    "        'mas_vnr_type': 'no', 'fireplace_qu': 'no', 'bsmt_exposure': 'no', 'fence': 'no', 'garage_cond': 'no',\n",
    "        'misc_feature': 'no', 'pool_qc': 'no', 'garage_qual': 'no', 'garage_finish': 'no',\n",
    "        'electrical': df['electrical'].mode()[0],\n",
    "        'mas_vnr_area': 0, 'garage_yr_blt': -1,\n",
    "        'lot_frontage': df['lot_frontage'].mean()\n",
    "    }\n",
    "    df.fillna(fillers, inplace=True)\n",
    "    return df\n",
    "\n",
    "def feature_engineering(df):\n",
    "    df = df.copy()\n",
    "    df['property_age'] = 2024 - df['year_built']\n",
    "    return df\n",
    "\n",
    "def preprocessing_pipeline(numerical_cols, catagorical_cols):\n",
    "    numerical_transformer = Pipeline(steps=[\n",
    "        ('scaler', StandardScaler())\n",
    "    ])\n",
    "\n",
    "    categorical_transformer = Pipeline(steps=[\n",
    "        ('onehot', OneHotEncoder(handle_unknown='ignore', sparse_output=False))\n",
    "    ])\n",
    "\n",
    "    preprocessor = ColumnTransformer(\n",
    "        transformers=[\n",
    "            ('num', numerical_transformer, numerical_cols),\n",
    "            ('cat', categorical_transformer, catagorical_cols)\n",
    "        ])\n",
    "\n",
    "    return preprocessor"
   ]
  },
  {
   "cell_type": "code",
   "execution_count": 33,
   "metadata": {},
   "outputs": [
    {
     "name": "stdout",
     "output_type": "stream",
     "text": [
      "Validation RMSE: 29742.679559040822\n",
      "Average RMSE from cross-validation: 33170.43478694476\n"
     ]
    }
   ],
   "source": [
    "train_data_raw.columns = pythonize_field_names(list(train_data_raw.columns))\n",
    "test_data_raw.columns = pythonize_field_names(list(test_data_raw.columns))\n",
    "\n",
    "train_data = fill_missing(train_data_raw)\n",
    "test_data = fill_missing(test_data_raw)\n",
    "train_data = feature_engineering(train_data)\n",
    "test_data = feature_engineering(test_data)\n",
    "\n",
    "numerical_cols = train_data.select_dtypes(include=['int64', 'float64']).columns.tolist()\n",
    "numerical_cols.remove('sale_price')\n",
    "numerical_cols.remove('id')\n",
    "\n",
    "categorical_cols = train_data.select_dtypes(include=['object', 'category']).columns.tolist()\n",
    "\n",
    "X = train_data.drop(columns=['sale_price', 'id'])\n",
    "y = train_data['sale_price']\n",
    "\n",
    "X_train, X_val, y_train, y_val = train_test_split(X, y, test_size=0.2, random_state=42)\n",
    "\n",
    "preprocessor = preprocessing_pipeline(numerical_cols, categorical_cols)\n",
    "model = Pipeline(steps=[('preprocessor', preprocessor),\n",
    "                        ('regressor', Ridge(alpha=1.0))])\n",
    "\n",
    "# Fit the model\n",
    "model.fit(X_train, y_train)\n",
    "\n",
    "# Predict and calculate RMSE on validation set\n",
    "val_predictions = model.predict(X_val)\n",
    "rmse = np.sqrt(mean_squared_error(y_val, val_predictions))\n",
    "print(\"Validation RMSE:\", rmse)\n",
    "\n",
    "# Optionally, perform cross-validation\n",
    "scores = cross_val_score(model, X, y, cv=5, scoring='neg_mean_squared_error')\n",
    "average_rmse = np.sqrt(-scores.mean())\n",
    "print(\"Average RMSE from cross-validation:\", average_rmse)"
   ]
  },
  {
   "cell_type": "code",
   "execution_count": null,
   "metadata": {},
   "outputs": [],
   "source": []
  },
  {
   "cell_type": "code",
   "execution_count": null,
   "metadata": {},
   "outputs": [],
   "source": []
  }
 ],
 "metadata": {
  "kernelspec": {
   "display_name": ".venv",
   "language": "python",
   "name": "python3"
  },
  "language_info": {
   "codemirror_mode": {
    "name": "ipython",
    "version": 3
   },
   "file_extension": ".py",
   "mimetype": "text/x-python",
   "name": "python",
   "nbconvert_exporter": "python",
   "pygments_lexer": "ipython3",
   "version": "3.11.9"
  }
 },
 "nbformat": 4,
 "nbformat_minor": 2
}
